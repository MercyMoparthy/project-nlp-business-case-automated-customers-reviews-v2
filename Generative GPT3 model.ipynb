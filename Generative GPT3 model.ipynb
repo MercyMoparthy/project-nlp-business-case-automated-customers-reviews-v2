{
 "cells": [
  {
   "cell_type": "markdown",
   "id": "3331719a",
   "metadata": {},
   "source": [
    "🧪 Colab Notebook — QLoRA Fine-Tuning on Mistral-7B\n",
    "Below is a full Colab-compatible notebook script to:\n",
    "\n",
    "Load your reviews CSV\n",
    "\n",
    "Group and summarize product data\n",
    "\n",
    "Create an instruction-style dataset\n",
    "\n",
    "Fine-tune mistralai/Mistral-7B-v0.1 using QLoRA and SFTTrainer"
   ]
  },
  {
   "cell_type": "code",
   "execution_count": 2,
   "id": "d4f8dc7e",
   "metadata": {},
   "outputs": [],
   "source": [
    "# Install Required Libraries\n",
    "#!pip install openai"
   ]
  },
  {
   "cell_type": "markdown",
   "id": "d4c16e2b",
   "metadata": {},
   "source": [
    "#### Import Librairies"
   ]
  },
  {
   "cell_type": "code",
   "execution_count": 3,
   "id": "443b8019",
   "metadata": {},
   "outputs": [],
   "source": [
    "import os\n",
    "from dotenv import load_dotenv, find_dotenv\n",
    "from openai import OpenAI\n",
    "import pandas as pd\n",
    "import time\n",
    "from IPython.display import display\n",
    "from tqdm.notebook import tqdm\n",
    "from collections import defaultdict\n",
    "import json\n",
    "from datetime import datetime"
   ]
  },
  {
   "cell_type": "markdown",
   "id": "6b5f8e68",
   "metadata": {},
   "source": [
    "## Setup"
   ]
  },
  {
   "cell_type": "code",
   "execution_count": 4,
   "id": "8317d0c6",
   "metadata": {},
   "outputs": [
    {
     "name": "stdout",
     "output_type": "stream",
     "text": [
      "✅ API Key Loaded: True\n"
     ]
    }
   ],
   "source": [
    "_ = load_dotenv(find_dotenv()) # read local .env file\n",
    "\n",
    "OPENAI_API_KEY  = os.getenv('OPENAI_API_KEY')\n",
    "\n",
    "# Debug check:\n",
    "print(\"✅ API Key Loaded:\", bool(OPENAI_API_KEY))"
   ]
  },
  {
   "cell_type": "code",
   "execution_count": 5,
   "id": "964a497a",
   "metadata": {},
   "outputs": [],
   "source": [
    "client = OpenAI(\n",
    "    # This is the default and can be omitted\n",
    "    api_key=OPENAI_API_KEY,\n",
    ")\n"
   ]
  },
  {
   "cell_type": "markdown",
   "id": "777deb17",
   "metadata": {},
   "source": [
    "#### Load and Format Your Dataset"
   ]
  },
  {
   "cell_type": "code",
   "execution_count": 6,
   "id": "65ccf209",
   "metadata": {},
   "outputs": [
    {
     "data": {
      "text/plain": [
       "Index(['name', 'asins', 'brand', 'categories', 'primaryCategories',\n",
       "       'imageURLs', 'doRecommend', 'rating', 'sourceURLs', 'label',\n",
       "       'clean_text', 'name_cleaned', 'umap_kmeans_cluster', 'cluster_labels',\n",
       "       'cluster_confidence', 'topic', 'topic_prob', 'cluster_id', 'tag',\n",
       "       'is_best_deal', 'is_family_friendly', 'is_durability_issue',\n",
       "       'is_top_product', 'is_battery_praise', 'is_battery_complaint',\n",
       "       'is_performance_met', 'final_tag'],\n",
       "      dtype='object')"
      ]
     },
     "execution_count": 6,
     "metadata": {},
     "output_type": "execute_result"
    }
   ],
   "source": [
    "# Load your dataset\n",
    "df = pd.read_csv(\"data/cleaned_amazon_reviews_final.csv\")\n",
    "\n",
    "# Optional: limit size for test\n",
    "#df = df.sample(10)  # or remove this line to use all\n",
    "\n",
    "df.columns\n"
   ]
  },
  {
   "cell_type": "code",
   "execution_count": 7,
   "id": "9e375ca5",
   "metadata": {},
   "outputs": [
    {
     "data": {
      "text/plain": [
       "(20060, 27)"
      ]
     },
     "execution_count": 7,
     "metadata": {},
     "output_type": "execute_result"
    }
   ],
   "source": [
    "df.shape"
   ]
  },
  {
   "cell_type": "code",
   "execution_count": 8,
   "id": "45301823",
   "metadata": {},
   "outputs": [
    {
     "data": {
      "text/plain": [
       "Index(['name', 'asins', 'brand', 'categories', 'primaryCategories',\n",
       "       'imageURLs', 'doRecommend', 'rating', 'sourceURLs', 'label',\n",
       "       'clean_text', 'name_cleaned', 'umap_kmeans_cluster', 'cluster_labels',\n",
       "       'cluster_confidence', 'topic', 'topic_prob', 'cluster_id', 'tag',\n",
       "       'is_best_deal', 'is_family_friendly', 'is_durability_issue',\n",
       "       'is_top_product', 'is_battery_praise', 'is_battery_complaint',\n",
       "       'is_performance_met', 'final_tag'],\n",
       "      dtype='object')"
      ]
     },
     "execution_count": 8,
     "metadata": {},
     "output_type": "execute_result"
    }
   ],
   "source": [
    "df.columns"
   ]
  },
  {
   "cell_type": "markdown",
   "id": "e4283bdb",
   "metadata": {},
   "source": [
    "#### Build products_by_cluster dictionary (used for prompt constraints)"
   ]
  },
  {
   "cell_type": "code",
   "execution_count": 9,
   "id": "d9964c48",
   "metadata": {},
   "outputs": [],
   "source": [
    "# Group all product names by cluster_labels or primaryCategories\n",
    "products_by_cluster = (\n",
    "    df.groupby(\"primaryCategories\")[\"name\"]\n",
    "    .unique()\n",
    "    .apply(list)\n",
    "    .to_dict()\n",
    ")\n"
   ]
  },
  {
   "cell_type": "markdown",
   "id": "f9fb7e5a",
   "metadata": {},
   "source": [
    "#### Prompts function - JSON Instruction with Product Constraints"
   ]
  },
  {
   "cell_type": "code",
   "execution_count": 10,
   "id": "781c450d",
   "metadata": {},
   "outputs": [],
   "source": [
    "def build_prompt(category, product_stats, product_list, min_reviews=3):\n",
    "    \"\"\"\n",
    "    Generates a JSON-format instruction prompt for GPT based on review statistics of a product category.\n",
    "    \n",
    "    Args:\n",
    "        category (str): The product category or cluster (e.g. 'Fire Tablet', 'Kindle Accessories').\n",
    "        product_stats (DataFrame): A DataFrame grouped by product name, with:\n",
    "            - 'rating': average rating for each product\n",
    "            - 'clean_text': concatenated or sampled review text for each product\n",
    "        min_reviews (int): Number of review snippets to include per product (default: 3).\n",
    "    \n",
    "    Returns:\n",
    "        str: A fully formatted GPT prompt with:\n",
    "            - List of product names to constrain hallucination\n",
    "            - Review snippets and average ratings\n",
    "            - Instruction to return clean, valid JSON (no markdown, no prefix)\n",
    "    \"\"\"\n",
    "\n",
    "    # Step 1: Get top and worst-rated products\n",
    "    top_3 = product_stats.head(3)\n",
    "    worst = product_stats.tail(1)\n",
    "\n",
    "    # Step 2: Build allowed product name list (used to constrain product listing)\n",
    "    product_list = \"\\n\".join([f\"- {name}\" for name in product_list])\n",
    "\n",
    "    # Step 3: Start assembling the instruction prompt\n",
    "    prompt_text = f\"\"\"\n",
    "You are an expert Amazon product analyst.\n",
    "\n",
    "You are evaluating products in the \"{category}\" category. Here is a list of **real product names** that you are allowed to mention (do not make up products):\n",
    "{product_list}\n",
    "\n",
    "---\n",
    "\n",
    "Your task is to return a **valid, minified, single-line JSON** using the following format:\n",
    "\n",
    "{{\n",
    "  \"top_products\": [\n",
    "    {{\n",
    "      \"name\": \"<Product name>\",\n",
    "      \"rating\": <float>,\n",
    "      \"highlight\": \"<Why this product is recommended>\",\n",
    "      \"tag\": \"<tag>\"\n",
    "    }}\n",
    "  ],\n",
    "  \"worst_product\": {{\n",
    "    \"name\": \"<Product name>\",\n",
    "    \"rating\": <float>,\n",
    "    \"issue\": \"<Why it should be avoided>\",\n",
    "    \"tag\": \"<tag>\"\n",
    "  }},\n",
    "  \"summary_text\": \"<Optional 1-2 sentence wrap-up of the category>\"\n",
    "}}\n",
    "\n",
    "Guidelines:\n",
    "- If there are fewer than 3 top products, list available ones and explain in `summary_text`.\n",
    "- If there's no obvious worst product, return `\"worst_product\": null`.\n",
    "- You MUST include all keys exactly as shown.\n",
    "- Do NOT break or omit any closing brackets or quotes.\n",
    "\n",
    "Format constraints:\n",
    "- Return only valid JSON.\n",
    "- Do not include markdown, explanations, or formatting.\n",
    "- JSON **must be a single line**, compact, and fully closed.\n",
    "- Example output: `{{\"top_products\":[{{\"name\":\"X\",\"rating\":4.5,...}}],...}}`\n",
    "\n",
    "\n",
    "---\n",
    "\n",
    "Here are summarized reviews and average ratings:\n",
    "\"\"\"\n",
    "\n",
    "    # Step 4: Insert top product review data\n",
    "    for i, (name, row) in enumerate(top_3.iterrows(), 1):\n",
    "        prompt_text += f\"\\n{i}. {name}\\n\"\n",
    "        prompt_text += f\"   - Rating: {round(row['rating'], 1)}\\n\"\n",
    "        prompt_text += f\"   - Sample Reviews: {row['clean_text'][:350]}...\\n\"\n",
    "        prompt_text += f\"   - Tag: {row['final_tag']}\\n\"\n",
    "\n",
    "    # Step 5: Insert worst product summary\n",
    "    for name, row in worst.iterrows():\n",
    "        prompt_text += f\"\\nWorst Product: {name}\\n\"\n",
    "        prompt_text += f\"   - Rating: {round(row['rating'], 1)}\\n\"\n",
    "        prompt_text += f\"   - Sample Reviews: {row['clean_text'][:350]}...\\n\"\n",
    "        prompt_text += f\"   - Tag: {row['final_tag']}\\n\"\n",
    "\n",
    "    return prompt_text.strip()\n"
   ]
  },
  {
   "cell_type": "markdown",
   "id": "cea650c0",
   "metadata": {},
   "source": [
    "#### Generate Prompts per Category"
   ]
  },
  {
   "cell_type": "code",
   "execution_count": 11,
   "id": "505ec931",
   "metadata": {},
   "outputs": [],
   "source": [
    "prompt_data = []\n",
    "\n",
    "for category, group in df.groupby(\"primaryCategories\"):  # or \"primaryCategories\"\n",
    "    product_stats = (\n",
    "        group.groupby(\"name\")\n",
    "        .agg({\n",
    "            \"rating\": \"mean\",\n",
    "            \"clean_text\": lambda x: \" \".join(x.sample(min(3, len(x))).tolist()),\n",
    "            \"final_tag\": lambda x: x.value_counts().index[0]  # most frequent tag\n",
    "        })\n",
    "        .sort_values(by=\"rating\", ascending=False)\n",
    "    )\n",
    "\n",
    "    if len(product_stats) < 1:\n",
    "        continue\n",
    "\n",
    "    product_list = products_by_cluster[category]\n",
    "    prompt_text = build_prompt(category, product_stats, product_list)\n",
    "    prompt_data.append({\"category\": category, \"prompt\": prompt_text})\n"
   ]
  },
  {
   "cell_type": "markdown",
   "id": "949eacd7",
   "metadata": {},
   "source": [
    "#### Convert prompts to DataFrame"
   ]
  },
  {
   "cell_type": "code",
   "execution_count": 12,
   "id": "86d91773",
   "metadata": {},
   "outputs": [],
   "source": [
    "df_prompts = pd.DataFrame(prompt_data)"
   ]
  },
  {
   "cell_type": "markdown",
   "id": "46e2c3b1",
   "metadata": {},
   "source": [
    "#### Display a preview"
   ]
  },
  {
   "cell_type": "code",
   "execution_count": 13,
   "id": "af4a55a3",
   "metadata": {},
   "outputs": [
    {
     "data": {
      "text/html": [
       "<div>\n",
       "<style scoped>\n",
       "    .dataframe tbody tr th:only-of-type {\n",
       "        vertical-align: middle;\n",
       "    }\n",
       "\n",
       "    .dataframe tbody tr th {\n",
       "        vertical-align: top;\n",
       "    }\n",
       "\n",
       "    .dataframe thead th {\n",
       "        text-align: right;\n",
       "    }\n",
       "</style>\n",
       "<table border=\"1\" class=\"dataframe\">\n",
       "  <thead>\n",
       "    <tr style=\"text-align: right;\">\n",
       "      <th></th>\n",
       "      <th>category</th>\n",
       "      <th>prompt</th>\n",
       "    </tr>\n",
       "  </thead>\n",
       "  <tbody>\n",
       "    <tr>\n",
       "      <th>0</th>\n",
       "      <td>Animals &amp; Pet Supplies</td>\n",
       "      <td>You are an expert Amazon product analyst.\\n\\nY...</td>\n",
       "    </tr>\n",
       "    <tr>\n",
       "      <th>1</th>\n",
       "      <td>Electronics</td>\n",
       "      <td>You are an expert Amazon product analyst.\\n\\nY...</td>\n",
       "    </tr>\n",
       "    <tr>\n",
       "      <th>2</th>\n",
       "      <td>Electronics,Furniture</td>\n",
       "      <td>You are an expert Amazon product analyst.\\n\\nY...</td>\n",
       "    </tr>\n",
       "    <tr>\n",
       "      <th>3</th>\n",
       "      <td>Electronics,Hardware</td>\n",
       "      <td>You are an expert Amazon product analyst.\\n\\nY...</td>\n",
       "    </tr>\n",
       "    <tr>\n",
       "      <th>4</th>\n",
       "      <td>Electronics,Media</td>\n",
       "      <td>You are an expert Amazon product analyst.\\n\\nY...</td>\n",
       "    </tr>\n",
       "  </tbody>\n",
       "</table>\n",
       "</div>"
      ],
      "text/plain": [
       "                 category                                             prompt\n",
       "0  Animals & Pet Supplies  You are an expert Amazon product analyst.\\n\\nY...\n",
       "1             Electronics  You are an expert Amazon product analyst.\\n\\nY...\n",
       "2   Electronics,Furniture  You are an expert Amazon product analyst.\\n\\nY...\n",
       "3    Electronics,Hardware  You are an expert Amazon product analyst.\\n\\nY...\n",
       "4       Electronics,Media  You are an expert Amazon product analyst.\\n\\nY..."
      ]
     },
     "metadata": {},
     "output_type": "display_data"
    }
   ],
   "source": [
    "display(df_prompts.head())"
   ]
  },
  {
   "cell_type": "markdown",
   "id": "bd2aef6b",
   "metadata": {},
   "source": [
    "#### OpenAI API Query Function"
   ]
  },
  {
   "cell_type": "code",
   "execution_count": 14,
   "id": "827d8852",
   "metadata": {},
   "outputs": [],
   "source": [
    "def query_gpt(prompts, model=\"gpt-3.5-turbo\", temperature=0.7, max_tokens=300, sleep=1.0):\n",
    "    if isinstance(prompts, str):\n",
    "        prompts = [prompts]\n",
    "\n",
    "    responses = []\n",
    "    for prompt in tqdm(prompts, desc=\"Querying GPT\"):\n",
    "        try:\n",
    "            response = client.chat.completions.create(\n",
    "                model=model,\n",
    "                messages=[{\"role\": \"user\", \"content\": prompt}],\n",
    "                temperature=temperature,\n",
    "                max_tokens=max_tokens\n",
    "            )\n",
    "            content = response.choices[0].message.content.strip()\n",
    "        except Exception as e:\n",
    "            content = f\"[ERROR] {str(e)}\"\n",
    "        responses.append(content)\n",
    "        time.sleep(sleep)\n",
    "\n",
    "    return responses if len(responses) > 1 else responses[0]"
   ]
  },
  {
   "cell_type": "markdown",
   "id": "267490c5",
   "metadata": {},
   "source": [
    "#### Validate JSON Responses with Fallback"
   ]
  },
  {
   "cell_type": "code",
   "execution_count": 15,
   "id": "d4a203bf",
   "metadata": {},
   "outputs": [],
   "source": [
    "def safe_json_parse(text):\n",
    "    try:\n",
    "        return json.loads(text)\n",
    "    except Exception:\n",
    "        return None\n"
   ]
  },
  {
   "cell_type": "code",
   "execution_count": 16,
   "id": "7efa4a50",
   "metadata": {},
   "outputs": [],
   "source": [
    "import json\n",
    "\n",
    "def parse_gpt_output_safe(text):\n",
    "    if not isinstance(text, str):\n",
    "        return None\n",
    "    try:\n",
    "        # Remove tuple wrapping if needed\n",
    "        if text.startswith(\"('\") and text.endswith(\"')\"):\n",
    "            text = text[2:-2]\n",
    "\n",
    "        # Trim whitespace\n",
    "        text = text.strip()\n",
    "\n",
    "        # Force close with '\"})' if missing\n",
    "        if not text.endswith('\"}\\')'):\n",
    "            text = text.rstrip()[:-4] + '\"}\\')'\n",
    "\n",
    "        # Now extract the JSON inside the string wrapper\n",
    "        if text.startswith(\"{\") and text.endswith(\"}\"):\n",
    "            return json.loads(text)\n",
    "        elif text.startswith(\"('\") and text.endswith(\"')\"):\n",
    "            return json.loads(text[2:-2])\n",
    "        elif text.startswith(\"{\") or text.startswith('\"top_products\"'):\n",
    "            return json.loads(text)\n",
    "\n",
    "    except Exception as e:\n",
    "        print(\"❌ Parse failed:\", e)\n",
    "        print(\"Raw string:\\n\", text[:300], \"...\")\n",
    "        return None\n",
    "\n",
    "\n"
   ]
  },
  {
   "cell_type": "markdown",
   "id": "9c6e63af",
   "metadata": {},
   "source": [
    "#### Send to GPT"
   ]
  },
  {
   "cell_type": "code",
   "execution_count": 17,
   "id": "1d48faf4",
   "metadata": {},
   "outputs": [
    {
     "data": {
      "application/vnd.jupyter.widget-view+json": {
       "model_id": "cdd2af446eb746e5a4fe38cbaaf85ea6",
       "version_major": 2,
       "version_minor": 0
      },
      "text/plain": [
       "Querying GPT:   0%|          | 0/10 [00:00<?, ?it/s]"
      ]
     },
     "metadata": {},
     "output_type": "display_data"
    }
   ],
   "source": [
    "# Query GPT and get outputs\n",
    "df_prompts[\"gpt_output\"] = query_gpt(df_prompts[\"prompt\"].tolist())"
   ]
  },
  {
   "cell_type": "code",
   "execution_count": 18,
   "id": "40e2e3ec",
   "metadata": {},
   "outputs": [
    {
     "data": {
      "text/html": [
       "<div>\n",
       "<style scoped>\n",
       "    .dataframe tbody tr th:only-of-type {\n",
       "        vertical-align: middle;\n",
       "    }\n",
       "\n",
       "    .dataframe tbody tr th {\n",
       "        vertical-align: top;\n",
       "    }\n",
       "\n",
       "    .dataframe thead th {\n",
       "        text-align: right;\n",
       "    }\n",
       "</style>\n",
       "<table border=\"1\" class=\"dataframe\">\n",
       "  <thead>\n",
       "    <tr style=\"text-align: right;\">\n",
       "      <th></th>\n",
       "      <th>category</th>\n",
       "      <th>gpt_output</th>\n",
       "      <th>gpt_json</th>\n",
       "    </tr>\n",
       "  </thead>\n",
       "  <tbody>\n",
       "    <tr>\n",
       "      <th>0</th>\n",
       "      <td>Animals &amp; Pet Supplies</td>\n",
       "      <td>{\"top_products\":[{\"name\":\"AmazonBasics Single-...</td>\n",
       "      <td>None</td>\n",
       "    </tr>\n",
       "    <tr>\n",
       "      <th>1</th>\n",
       "      <td>Electronics</td>\n",
       "      <td>{\"top_products\":[{\"name\":\"AmazonBasics USB 3.0...</td>\n",
       "      <td>{'top_products': [{'name': 'AmazonBasics USB 3...</td>\n",
       "    </tr>\n",
       "    <tr>\n",
       "      <th>2</th>\n",
       "      <td>Electronics,Furniture</td>\n",
       "      <td>{\"top_products\":[{\"name\":\"All-new Echo (2nd Ge...</td>\n",
       "      <td>{'top_products': [{'name': 'All-new Echo (2nd ...</td>\n",
       "    </tr>\n",
       "    <tr>\n",
       "      <th>3</th>\n",
       "      <td>Electronics,Hardware</td>\n",
       "      <td>{\"top_products\":[{\"name\":\"Amazon - Echo Plus w...</td>\n",
       "      <td>{'top_products': [{'name': 'Amazon - Echo Plus...</td>\n",
       "    </tr>\n",
       "    <tr>\n",
       "      <th>4</th>\n",
       "      <td>Electronics,Media</td>\n",
       "      <td>{\"top_products\":[{\"name\":\"Kindle Oasis E-reade...</td>\n",
       "      <td>None</td>\n",
       "    </tr>\n",
       "  </tbody>\n",
       "</table>\n",
       "</div>"
      ],
      "text/plain": [
       "                 category                                         gpt_output  \\\n",
       "0  Animals & Pet Supplies  {\"top_products\":[{\"name\":\"AmazonBasics Single-...   \n",
       "1             Electronics  {\"top_products\":[{\"name\":\"AmazonBasics USB 3.0...   \n",
       "2   Electronics,Furniture  {\"top_products\":[{\"name\":\"All-new Echo (2nd Ge...   \n",
       "3    Electronics,Hardware  {\"top_products\":[{\"name\":\"Amazon - Echo Plus w...   \n",
       "4       Electronics,Media  {\"top_products\":[{\"name\":\"Kindle Oasis E-reade...   \n",
       "\n",
       "                                            gpt_json  \n",
       "0                                               None  \n",
       "1  {'top_products': [{'name': 'AmazonBasics USB 3...  \n",
       "2  {'top_products': [{'name': 'All-new Echo (2nd ...  \n",
       "3  {'top_products': [{'name': 'Amazon - Echo Plus...  \n",
       "4                                               None  "
      ]
     },
     "metadata": {},
     "output_type": "display_data"
    }
   ],
   "source": [
    "# Try to parse the GPT response into JSON\n",
    "df_prompts[\"gpt_json\"] = df_prompts[\"gpt_output\"].apply(safe_json_parse)\n",
    "\n",
    "# Save results to CSV\n",
    "#df_prompts.to_csv(\"gpt_category_summaries.csv\", index=False)\n",
    "\n",
    "# Preview a few outputs\n",
    "display(df_prompts[[\"category\", \"gpt_output\",\"gpt_json\"]].head())\n"
   ]
  },
  {
   "cell_type": "code",
   "execution_count": 19,
   "id": "36b7c3bd",
   "metadata": {},
   "outputs": [
    {
     "name": "stdout",
     "output_type": "stream",
     "text": [
      "None\n"
     ]
    }
   ],
   "source": [
    "import pprint\n",
    "\n",
    "# Example: check the 0th row (first category)\n",
    "pprint.pprint(df_prompts.loc[4, \"gpt_json\"])"
   ]
  },
  {
   "cell_type": "markdown",
   "id": "6a2be8aa",
   "metadata": {},
   "source": [
    "#### Enrich GPT outputs with image URLs"
   ]
  },
  {
   "cell_type": "code",
   "execution_count": 20,
   "id": "0a6b3a33",
   "metadata": {},
   "outputs": [],
   "source": [
    "def enrich_gpt_json_with_images(gpt_dict, df_reference):\n",
    "    \"\"\"\n",
    "    Adds imageURL to each product in top_products and worst_product by matching product names in df_reference.\n",
    "    \n",
    "    Args:\n",
    "        gpt_dict (dict): A single GPT output dict.\n",
    "        df_reference (DataFrame): Reference DataFrame containing 'name' and 'imageURLs'.\n",
    "    \n",
    "    Returns:\n",
    "        dict: The enriched dictionary.\n",
    "    \"\"\"\n",
    "    def find_image_url(product_name):\n",
    "        # Try exact match first\n",
    "        match = df_reference[df_reference[\"name\"].str.strip() == product_name.strip()]\n",
    "        if not match.empty:\n",
    "            return match.iloc[0][\"imageURLs\"]\n",
    "        \n",
    "        # Fallback: partial match\n",
    "        match = df_reference[df_reference[\"name\"].str.contains(product_name[:30], case=False, na=False)]\n",
    "        if not match.empty:\n",
    "            return match.iloc[0][\"imageURLs\"]\n",
    "        \n",
    "        return None\n",
    "\n",
    "    # Enrich top_products\n",
    "    for product in gpt_dict.get(\"top_products\", []):\n",
    "        if \"name\" in product:\n",
    "            product[\"imageURL\"] = find_image_url(product[\"name\"])\n",
    "\n",
    "    # Enrich worst_product\n",
    "    worst = gpt_dict.get(\"worst_product\")\n",
    "    if isinstance(worst, dict) and \"name\" in worst:\n",
    "        worst[\"imageURL\"] = find_image_url(worst[\"name\"])\n",
    "\n",
    "    return gpt_dict\n"
   ]
  },
  {
   "cell_type": "code",
   "execution_count": 21,
   "id": "b5343377",
   "metadata": {},
   "outputs": [],
   "source": [
    "df_prompts[\"gpt_json\"] = df_prompts[\"gpt_json\"].apply(\n",
    "    lambda g: enrich_gpt_json_with_images(g, df) if g is not None else None\n",
    ")\n"
   ]
  },
  {
   "cell_type": "code",
   "execution_count": 22,
   "id": "dab54264",
   "metadata": {},
   "outputs": [
    {
     "data": {
      "text/html": [
       "<div>\n",
       "<style scoped>\n",
       "    .dataframe tbody tr th:only-of-type {\n",
       "        vertical-align: middle;\n",
       "    }\n",
       "\n",
       "    .dataframe tbody tr th {\n",
       "        vertical-align: top;\n",
       "    }\n",
       "\n",
       "    .dataframe thead th {\n",
       "        text-align: right;\n",
       "    }\n",
       "</style>\n",
       "<table border=\"1\" class=\"dataframe\">\n",
       "  <thead>\n",
       "    <tr style=\"text-align: right;\">\n",
       "      <th></th>\n",
       "      <th>category</th>\n",
       "      <th>prompt</th>\n",
       "      <th>gpt_output</th>\n",
       "      <th>gpt_json</th>\n",
       "    </tr>\n",
       "  </thead>\n",
       "  <tbody>\n",
       "    <tr>\n",
       "      <th>0</th>\n",
       "      <td>Animals &amp; Pet Supplies</td>\n",
       "      <td>You are an expert Amazon product analyst.\\n\\nY...</td>\n",
       "      <td>{\"top_products\":[{\"name\":\"AmazonBasics Single-...</td>\n",
       "      <td>None</td>\n",
       "    </tr>\n",
       "    <tr>\n",
       "      <th>1</th>\n",
       "      <td>Electronics</td>\n",
       "      <td>You are an expert Amazon product analyst.\\n\\nY...</td>\n",
       "      <td>{\"top_products\":[{\"name\":\"AmazonBasics USB 3.0...</td>\n",
       "      <td>{'top_products': [{'name': 'AmazonBasics USB 3...</td>\n",
       "    </tr>\n",
       "    <tr>\n",
       "      <th>2</th>\n",
       "      <td>Electronics,Furniture</td>\n",
       "      <td>You are an expert Amazon product analyst.\\n\\nY...</td>\n",
       "      <td>{\"top_products\":[{\"name\":\"All-new Echo (2nd Ge...</td>\n",
       "      <td>{'top_products': [{'name': 'All-new Echo (2nd ...</td>\n",
       "    </tr>\n",
       "    <tr>\n",
       "      <th>3</th>\n",
       "      <td>Electronics,Hardware</td>\n",
       "      <td>You are an expert Amazon product analyst.\\n\\nY...</td>\n",
       "      <td>{\"top_products\":[{\"name\":\"Amazon - Echo Plus w...</td>\n",
       "      <td>{'top_products': [{'name': 'Amazon - Echo Plus...</td>\n",
       "    </tr>\n",
       "    <tr>\n",
       "      <th>4</th>\n",
       "      <td>Electronics,Media</td>\n",
       "      <td>You are an expert Amazon product analyst.\\n\\nY...</td>\n",
       "      <td>{\"top_products\":[{\"name\":\"Kindle Oasis E-reade...</td>\n",
       "      <td>None</td>\n",
       "    </tr>\n",
       "    <tr>\n",
       "      <th>5</th>\n",
       "      <td>Health &amp; Beauty</td>\n",
       "      <td>You are an expert Amazon product analyst.\\n\\nY...</td>\n",
       "      <td>{\"top_products\":[{\"name\":\"AmazonBasics AAA Per...</td>\n",
       "      <td>{'top_products': [{'name': 'AmazonBasics AAA P...</td>\n",
       "    </tr>\n",
       "    <tr>\n",
       "      <th>6</th>\n",
       "      <td>Home &amp; Garden</td>\n",
       "      <td>You are an expert Amazon product analyst.\\n\\nY...</td>\n",
       "      <td>{\"top_products\":[{\"name\":\"AmazonBasics Nespres...</td>\n",
       "      <td>{'top_products': [{'name': 'AmazonBasics Nespr...</td>\n",
       "    </tr>\n",
       "    <tr>\n",
       "      <th>7</th>\n",
       "      <td>Office Supplies</td>\n",
       "      <td>You are an expert Amazon product analyst.\\n\\nY...</td>\n",
       "      <td>{\"top_products\":[{\"name\":\"Expanding Accordion ...</td>\n",
       "      <td>{'top_products': [{'name': 'Expanding Accordio...</td>\n",
       "    </tr>\n",
       "    <tr>\n",
       "      <th>8</th>\n",
       "      <td>Office Supplies,Electronics</td>\n",
       "      <td>You are an expert Amazon product analyst.\\n\\nY...</td>\n",
       "      <td>{\"top_products\":[{\"name\":\"Fire HD 10 Tablet, 1...</td>\n",
       "      <td>{'top_products': [{'name': 'Fire HD 10 Tablet,...</td>\n",
       "    </tr>\n",
       "    <tr>\n",
       "      <th>9</th>\n",
       "      <td>Toys &amp; Games,Electronics</td>\n",
       "      <td>You are an expert Amazon product analyst.\\n\\nY...</td>\n",
       "      <td>{\"top_products\":[{\"name\":\"Fire Kids Edition Ta...</td>\n",
       "      <td>{'top_products': [{'name': 'Fire Kids Edition ...</td>\n",
       "    </tr>\n",
       "  </tbody>\n",
       "</table>\n",
       "</div>"
      ],
      "text/plain": [
       "                      category  \\\n",
       "0       Animals & Pet Supplies   \n",
       "1                  Electronics   \n",
       "2        Electronics,Furniture   \n",
       "3         Electronics,Hardware   \n",
       "4            Electronics,Media   \n",
       "5              Health & Beauty   \n",
       "6                Home & Garden   \n",
       "7              Office Supplies   \n",
       "8  Office Supplies,Electronics   \n",
       "9     Toys & Games,Electronics   \n",
       "\n",
       "                                              prompt  \\\n",
       "0  You are an expert Amazon product analyst.\\n\\nY...   \n",
       "1  You are an expert Amazon product analyst.\\n\\nY...   \n",
       "2  You are an expert Amazon product analyst.\\n\\nY...   \n",
       "3  You are an expert Amazon product analyst.\\n\\nY...   \n",
       "4  You are an expert Amazon product analyst.\\n\\nY...   \n",
       "5  You are an expert Amazon product analyst.\\n\\nY...   \n",
       "6  You are an expert Amazon product analyst.\\n\\nY...   \n",
       "7  You are an expert Amazon product analyst.\\n\\nY...   \n",
       "8  You are an expert Amazon product analyst.\\n\\nY...   \n",
       "9  You are an expert Amazon product analyst.\\n\\nY...   \n",
       "\n",
       "                                          gpt_output  \\\n",
       "0  {\"top_products\":[{\"name\":\"AmazonBasics Single-...   \n",
       "1  {\"top_products\":[{\"name\":\"AmazonBasics USB 3.0...   \n",
       "2  {\"top_products\":[{\"name\":\"All-new Echo (2nd Ge...   \n",
       "3  {\"top_products\":[{\"name\":\"Amazon - Echo Plus w...   \n",
       "4  {\"top_products\":[{\"name\":\"Kindle Oasis E-reade...   \n",
       "5  {\"top_products\":[{\"name\":\"AmazonBasics AAA Per...   \n",
       "6  {\"top_products\":[{\"name\":\"AmazonBasics Nespres...   \n",
       "7  {\"top_products\":[{\"name\":\"Expanding Accordion ...   \n",
       "8  {\"top_products\":[{\"name\":\"Fire HD 10 Tablet, 1...   \n",
       "9  {\"top_products\":[{\"name\":\"Fire Kids Edition Ta...   \n",
       "\n",
       "                                            gpt_json  \n",
       "0                                               None  \n",
       "1  {'top_products': [{'name': 'AmazonBasics USB 3...  \n",
       "2  {'top_products': [{'name': 'All-new Echo (2nd ...  \n",
       "3  {'top_products': [{'name': 'Amazon - Echo Plus...  \n",
       "4                                               None  \n",
       "5  {'top_products': [{'name': 'AmazonBasics AAA P...  \n",
       "6  {'top_products': [{'name': 'AmazonBasics Nespr...  \n",
       "7  {'top_products': [{'name': 'Expanding Accordio...  \n",
       "8  {'top_products': [{'name': 'Fire HD 10 Tablet,...  \n",
       "9  {'top_products': [{'name': 'Fire Kids Edition ...  "
      ]
     },
     "execution_count": 22,
     "metadata": {},
     "output_type": "execute_result"
    }
   ],
   "source": [
    "df_prompts"
   ]
  },
  {
   "cell_type": "code",
   "execution_count": 23,
   "id": "dcc84ab0",
   "metadata": {},
   "outputs": [
    {
     "name": "stdout",
     "output_type": "stream",
     "text": [
      "None\n"
     ]
    }
   ],
   "source": [
    "pprint.pprint(df_prompts.loc[4,\"gpt_json\"])"
   ]
  },
  {
   "cell_type": "markdown",
   "id": "851fa9a2",
   "metadata": {},
   "source": [
    "#### Save the JSON"
   ]
  },
  {
   "cell_type": "code",
   "execution_count": 24,
   "id": "f3e6d1eb",
   "metadata": {},
   "outputs": [],
   "source": [
    "# Make sure df_prompts[\"gpt_json\"] contains valid dicts\n",
    "summaries = df_prompts[\"gpt_json\"].tolist()\n",
    "\n",
    "# Save to JSON file\n",
    "with open(\"gpt_summaries_by_category.json\", \"w\", encoding=\"utf-8\") as f:\n",
    "    json.dump(summaries, f, indent=2, ensure_ascii=False)"
   ]
  }
 ],
 "metadata": {
  "kernelspec": {
   "display_name": "base",
   "language": "python",
   "name": "python3"
  },
  "language_info": {
   "codemirror_mode": {
    "name": "ipython",
    "version": 3
   },
   "file_extension": ".py",
   "mimetype": "text/x-python",
   "name": "python",
   "nbconvert_exporter": "python",
   "pygments_lexer": "ipython3",
   "version": "3.12.7"
  }
 },
 "nbformat": 4,
 "nbformat_minor": 5
}
